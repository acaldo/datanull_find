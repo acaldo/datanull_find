{
 "cells": [
  {
   "cell_type": "code",
   "execution_count": 1,
   "metadata": {},
   "outputs": [],
   "source": [
    "import janitor\n",
    "import matplotlib.pyplot as plt\n",
    "import missingno\n",
    "import numpy as np\n",
    "import pandas as pd\n",
    "import pyreadr\n",
    "import seaborn as sns\n",
    "import session_info\n",
    "import upsetplot"
   ]
  },
  {
   "cell_type": "code",
   "execution_count": 4,
   "metadata": {},
   "outputs": [],
   "source": [
    "%run pandas-missing-extension.ipynb"
   ]
  },
  {
   "cell_type": "code",
   "execution_count": 5,
   "metadata": {},
   "outputs": [],
   "source": [
    "pima_indians_diabetes_url = \"https://nrvis.com/data/mldata/pima-indians-diabetes.csv\""
   ]
  },
  {
   "cell_type": "code",
   "execution_count": 7,
   "metadata": {},
   "outputs": [],
   "source": [
    "!wget -O ./data/pima-indians-diabetes.csv { pima_indians_diabetes_url } -q"
   ]
  },
  {
   "cell_type": "code",
   "execution_count": 8,
   "metadata": {},
   "outputs": [],
   "source": [
    "diabetes_df = pd.read_csv(\n",
    "    filepath_or_buffer=\"./data/pima-indians-diabetes.csv\", # or pima_indians_diabetes_url\n",
    "    sep=\",\",\n",
    "    names=[\n",
    "        \"pregnancies\",\n",
    "        \"glucose\",\n",
    "        \"blood_pressure\",\n",
    "        \"skin_thickness\",\n",
    "        \"insulin\",\n",
    "        \"bmi\",\n",
    "        \"diabetes_pedigree_function\",\n",
    "        \"age\",\n",
    "        \"outcome\",\n",
    "    ]\n",
    ")"
   ]
  },
  {
   "attachments": {},
   "cell_type": "markdown",
   "metadata": {},
   "source": [
    "### naniar (oceanbuoys, pedestrian, riskfactors)"
   ]
  },
  {
   "attachments": {},
   "cell_type": "markdown",
   "metadata": {},
   "source": [
    "#### Crear unidades de información de los conjuntos de dato"
   ]
  },
  {
   "cell_type": "code",
   "execution_count": 9,
   "metadata": {},
   "outputs": [],
   "source": [
    "base_url = \"https://github.com/njtierney/naniar/raw/master/data/\"\n",
    "datasets_names = (\"oceanbuoys\", \"pedestrian\", \"riskfactors\")\n",
    "extension = \".rda\""
   ]
  },
  {
   "attachments": {},
   "cell_type": "markdown",
   "metadata": {},
   "source": [
    "#### Descargar y cargar los conjuntos de datos"
   ]
  },
  {
   "cell_type": "code",
   "execution_count": 10,
   "metadata": {},
   "outputs": [
    {
     "data": {
      "text/plain": [
       "dict_keys(['oceanbuoys_df', 'pedestrian_df', 'riskfactors_df'])"
      ]
     },
     "execution_count": 10,
     "metadata": {},
     "output_type": "execute_result"
    }
   ],
   "source": [
    "datasets_dfs = {}\n",
    "\n",
    "for dataset_name in datasets_names:\n",
    "\n",
    "    dataset_file = f\"{ dataset_name }{ extension }\"\n",
    "    dataset_output_file = f\"./data/{ dataset_file }\"\n",
    "    dataset_url = f\"{ base_url }{ dataset_file }\"\n",
    "    \n",
    "    !wget -q -O { dataset_output_file } { dataset_url }\n",
    "\n",
    "    datasets_dfs[f\"{ dataset_name }_df\"] = pyreadr.read_r(dataset_output_file).get(dataset_name)\n",
    "\n",
    "datasets_dfs.keys()"
   ]
  },
  {
   "attachments": {},
   "cell_type": "markdown",
   "metadata": {},
   "source": [
    "#### Incluir conjuntos de datos en nuestro ambiente local"
   ]
  },
  {
   "cell_type": "code",
   "execution_count": 11,
   "metadata": {},
   "outputs": [],
   "source": [
    "locals().update(**datasets_dfs)\n",
    "del datasets_dfs"
   ]
  },
  {
   "cell_type": "markdown",
   "metadata": {},
   "source": [
    "### Verificar carga"
   ]
  },
  {
   "cell_type": "code",
   "execution_count": 12,
   "metadata": {},
   "outputs": [
    {
     "data": {
      "text/plain": [
       "((736, 8), (37700, 9), (245, 34), (768, 9))"
      ]
     },
     "execution_count": 12,
     "metadata": {},
     "output_type": "execute_result"
    }
   ],
   "source": [
    "oceanbuoys_df.shape, pedestrian_df.shape, riskfactors_df.shape, diabetes_df.shape"
   ]
  },
  {
   "cell_type": "code",
   "execution_count": 14,
   "metadata": {},
   "outputs": [
    {
     "name": "stdout",
     "output_type": "stream",
     "text": [
      "<class 'pandas.core.frame.DataFrame'>\n",
      "RangeIndex: 245 entries, 0 to 244\n",
      "Data columns (total 34 columns):\n",
      " #   Column            Non-Null Count  Dtype   \n",
      "---  ------            --------------  -----   \n",
      " 0   state             245 non-null    category\n",
      " 1   sex               245 non-null    category\n",
      " 2   age               245 non-null    int32   \n",
      " 3   weight_lbs        235 non-null    object  \n",
      " 4   height_inch       243 non-null    object  \n",
      " 5   bmi               234 non-null    float64 \n",
      " 6   marital           244 non-null    category\n",
      " 7   pregnant          30 non-null     category\n",
      " 8   children          245 non-null    int32   \n",
      " 9   education         244 non-null    category\n",
      " 10  employment        245 non-null    category\n",
      " 11  income            245 non-null    category\n",
      " 12  veteran           242 non-null    category\n",
      " 13  hispanic          243 non-null    category\n",
      " 14  health_general    245 non-null    category\n",
      " 15  health_physical   245 non-null    int32   \n",
      " 16  health_mental     245 non-null    int32   \n",
      " 17  health_poor       132 non-null    object  \n",
      " 18  health_cover      245 non-null    category\n",
      " 19  provide_care      242 non-null    category\n",
      " 20  activity_limited  242 non-null    category\n",
      " 21  drink_any         243 non-null    category\n",
      " 22  drink_days        111 non-null    object  \n",
      " 23  drink_average     110 non-null    object  \n",
      " 24  smoke_100         243 non-null    category\n",
      " 25  smoke_days        117 non-null    category\n",
      " 26  smoke_stop        33 non-null     category\n",
      " 27  smoke_last        84 non-null     category\n",
      " 28  diet_fruit        237 non-null    object  \n",
      " 29  diet_salad        237 non-null    object  \n",
      " 30  diet_potato       237 non-null    object  \n",
      " 31  diet_carrot       237 non-null    object  \n",
      " 32  diet_vegetable    237 non-null    object  \n",
      " 33  diet_juice        237 non-null    object  \n",
      "dtypes: category(18), float64(1), int32(4), object(11)\n",
      "memory usage: 36.7+ KB\n"
     ]
    }
   ],
   "source": [
    "riskfactors_df.info()"
   ]
  }
 ],
 "metadata": {
  "kernelspec": {
   "display_name": "platzi_data",
   "language": "python",
   "name": "python3"
  },
  "language_info": {
   "codemirror_mode": {
    "name": "ipython",
    "version": 3
   },
   "file_extension": ".py",
   "mimetype": "text/x-python",
   "name": "python",
   "nbconvert_exporter": "python",
   "pygments_lexer": "ipython3",
   "version": "3.10.8"
  },
  "orig_nbformat": 4,
  "vscode": {
   "interpreter": {
    "hash": "e97b1aff5313410e2c98e87cf07e5d7ea9e5522c98002fb8902931dc89a92e9b"
   }
  }
 },
 "nbformat": 4,
 "nbformat_minor": 2
}
